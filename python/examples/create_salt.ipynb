{
 "cells": [
  {
   "cell_type": "markdown",
   "metadata": {
    "toc": true
   },
   "source": [
    "<h1>Table of Contents<span class=\"tocSkip\"></span></h1>\n",
    "<div class=\"toc\"><ul class=\"toc-item\"></ul></div>"
   ]
  },
  {
   "cell_type": "code",
   "execution_count": null,
   "metadata": {
    "collapsed": true
   },
   "outputs": [],
   "source": [
    "# use Python 3.6 secrets package\n",
    "import hashlib\n",
    "import math\n",
    "import secrets\n",
    "import sys"
   ]
  },
  {
   "cell_type": "code",
   "execution_count": null,
   "metadata": {},
   "outputs": [],
   "source": [
    "# Create random hexadecimal token of default size (32 bytes, 64 hex digits)\n",
    "token_hex = secrets.token_hex()\n",
    "print( \"token: \" + token_hex + \"; length = \" + str( len( token_hex ) ) )"
   ]
  },
  {
   "cell_type": "code",
   "execution_count": null,
   "metadata": {},
   "outputs": [],
   "source": [
    "# convert to integer\n",
    "token_int = int( token_hex, 16 )\n",
    "print( \"Default token int: \" + str( token_int ) )"
   ]
  },
  {
   "cell_type": "code",
   "execution_count": null,
   "metadata": {},
   "outputs": [],
   "source": [
    "# get bit count\n",
    "token_bit_count = token_int.bit_length()\n",
    "print( \"token bit count = \" + str( token_bit_count ) )"
   ]
  },
  {
   "cell_type": "code",
   "execution_count": null,
   "metadata": {},
   "outputs": [],
   "source": [
    "# get byte count\n",
    "token_byte_count = token_bit_count / 8\n",
    "token_byte_count = math.ceil( token_byte_count )\n",
    "token_byte_count = int( token_byte_count )\n",
    "print( \"token byte count = \" + str( token_byte_count ) )"
   ]
  },
  {
   "cell_type": "code",
   "execution_count": null,
   "metadata": {},
   "outputs": [],
   "source": [
    "# convert to bytes\n",
    "token_bytes = token_int.to_bytes( token_byte_count, byteorder = sys.byteorder )\n",
    "print( \"token bytes = \" + str( token_bytes ) )"
   ]
  },
  {
   "cell_type": "code",
   "execution_count": null,
   "metadata": {},
   "outputs": [],
   "source": [
    "# hash to create salt value\n",
    "salt_hash = hashlib.sha256( token_bytes )\n",
    "salt = salt_hash.hexdigest()\n",
    "print( \"salt (not including quotation marks): \\\"\" + str( salt ) + \"\\\"; type = \" + str( type( salt ) ) )"
   ]
  }
 ],
 "metadata": {
  "kernelspec": {
   "display_name": "Python 3",
   "language": "python",
   "name": "python3"
  },
  "language_info": {
   "codemirror_mode": {
    "name": "ipython",
    "version": 3
   },
   "file_extension": ".py",
   "mimetype": "text/x-python",
   "name": "python",
   "nbconvert_exporter": "python",
   "pygments_lexer": "ipython3",
   "version": "3.6.4"
  },
  "toc": {
   "nav_menu": {},
   "number_sections": true,
   "sideBar": true,
   "skip_h1_title": false,
   "title_cell": "Table of Contents",
   "title_sidebar": "Contents",
   "toc_cell": true,
   "toc_position": {},
   "toc_section_display": true,
   "toc_window_display": true
  }
 },
 "nbformat": 4,
 "nbformat_minor": 2
}
